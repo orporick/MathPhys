{
 "cells": [
  {
   "cell_type": "markdown",
   "metadata": {},
   "source": [
    "# Grafici deducibili\n",
    "Riccardo Giannitrapani\n",
    "\n",
    "In questi appunti rivediamo il problema di rappresentare il grafico di una funzione deducibile dal grafico di funzioni note. L'argomento si presta bene come applicazione delle trasformazioni affini del piano, ma il collega di Fisica mi ha chiesto di anticiparlo perche' propedeutico alla parte sui moti ondulatori che sono in programma in questo periodo dell'anno. Colgo volentieri l'occasione per proporre questi appunti. Gli appunti usano il lingaggio di programmazione Python ed il tool IPython per tutta la parte grafica. Non e' pero' necessario conoscere tale linguaggio, si possono semplicemente saltare le parti di codice e usare solo il testo e i grafici. Lo studente o la studentessa che voglia sperimentare l'argomento puo' pero' scaricare questo notebook per IPython e giocarci.\n",
    "\n",
    "\n",
    "Consideriamo quindi una funzione reale di cui conosciamo il grafico, per esempio\n",
    "\n",
    "$$ f(x) = \\sin(x) $$\n",
    "\n",
    "useremo questa funzione nel resto degli appunti, ma le considerazioni che faremo possono essere facilmente estese ad altre funzioni di cui servano i grafici deducibili."
   ]
  },
  {
   "cell_type": "code",
   "execution_count": null,
   "metadata": {
    "collapsed": false
   },
   "outputs": [],
   "source": [
    "## Carichiamo alcune librerie\n",
    "import matplotlib.pyplot as plt\n",
    "import numpy as np\n",
    "%matplotlib inline  \n",
    "from mympl import hide_spines"
   ]
  },
  {
   "cell_type": "code",
   "execution_count": null,
   "metadata": {
    "collapsed": false
   },
   "outputs": [],
   "source": [
    "## Disegnamo la funzione sin(x) in un opportuno intervallo\n",
    "x = np.linspace(0.0, 2*np.pi, 200)\n",
    "y = np.sin(x)\n",
    "plt.figure(figsize=(10,5))\n",
    "plt.ylim(-1.05,1.05)  \n",
    "plt.xlim(0.0,2*np.pi)  \n",
    "plt.plot(x, y,linewidth=5,color='black')\n",
    "hide_spines()\n",
    "plt.show()"
   ]
  },
  {
   "cell_type": "code",
   "execution_count": null,
   "metadata": {
    "collapsed": false
   },
   "outputs": [],
   "source": [
    "%reload_ext version_information"
   ]
  },
  {
   "cell_type": "code",
   "execution_count": null,
   "metadata": {
    "collapsed": false
   },
   "outputs": [],
   "source": [
    "%version_information numpy, matplotlib"
   ]
  }
 ],
 "metadata": {
  "kernelspec": {
   "display_name": "Python 3",
   "language": "python",
   "name": "python3"
  },
  "language_info": {
   "codemirror_mode": {
    "name": "ipython",
    "version": 3
   },
   "file_extension": ".py",
   "mimetype": "text/x-python",
   "name": "python",
   "nbconvert_exporter": "python",
   "pygments_lexer": "ipython3",
   "version": "3.4.3"
  }
 },
 "nbformat": 4,
 "nbformat_minor": 0
}
