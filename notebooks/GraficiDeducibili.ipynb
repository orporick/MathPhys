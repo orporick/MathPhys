{
 "cells": [
  {
   "cell_type": "markdown",
   "metadata": {},
   "source": [
    "# Grafici deducibili\n",
    "Riccardo Giannitrapani\n",
    "\n",
    "In questi appunti rivediamo il problema di rappresentare il grafico di una funzione deducibile dal grafico di funzioni note. L'argomento si presta bene come applicazione delle trasformazioni affini del piano, ma il collega di Fisica mi ha chiesto di anticiparlo perche' propedeutico alla parte sui moti ondulatori che sono in programma in questo periodo dell'anno. Colgo volentieri l'occasione per proporre questi appunti. Gli appunti usano il lingaggio di programmazione Python ed il tool IPython per tutta la parte grafica. Non e' pero' necessario conoscere tale linguaggio, si possono semplicemente saltare le parti di codice e usare solo il testo e i grafici. Lo studente o la studentessa che voglia sperimentare l'argomento puo' pero' scaricare questo notebook per IPython e giocarci.\n",
    "\n",
    "\n",
    "Consideriamo quindi una funzione reale di cui conosciamo il grafico, per esempio\n",
    "\n",
    "$$ f(x) = \\sin(x) $$\n",
    "\n",
    "useremo questa funzione nel resto degli appunti, ma le considerazioni che faremo possono essere facilmente estese ad altre funzioni di cui servano i grafici deducibili."
   ]
  },
  {
   "cell_type": "code",
   "execution_count": 3,
   "metadata": {
    "collapsed": false
   },
   "outputs": [],
   "source": [
    "## Carichiamo alcune librerie\n",
    "import matplotlib.pyplot as plt\n",
    "import numpy as np\n",
    "%matplotlib inline  \n",
    "from mympl import hide_spines"
   ]
  },
  {
   "cell_type": "code",
   "execution_count": 5,
   "metadata": {
    "collapsed": false
   },
   "outputs": [
    {
     "data": {
      "image/png": "[encoded data removed]",
      "text/plain": [
       "<matplotlib.figure.Figure at 0xb19bed4c>"
      ]
     },
     "metadata": {},
     "output_type": "display_data"
    }
   ],
   "source": [
    "## Disegnamo la funzione sin(x) in un opportuno intervallo\n",
    "x = np.linspace(0.0, 2*np.pi, 200)\n",
    "y = np.sin(x)\n",
    "plt.figure(figsize=(10,5))\n",
    "plt.ylim(-1.05,1.05)  \n",
    "plt.xlim(0.0,2*np.pi)  \n",
    "plt.plot(x, y,linewidth=5,color='black')\n",
    "hide_spines()\n",
    "plt.show()"
   ]
  },
  {
   "cell_type": "code",
   "execution_count": 6,
   "metadata": {
    "collapsed": false
   },
   "outputs": [],
   "source": [
    "%reload_ext version_information"
   ]
  },
  {
   "cell_type": "code",
   "execution_count": 7,
   "metadata": {
    "collapsed": false
   },
   "outputs": [
    {
     "data": {
      "application/json": {
       "Software versions": [
        {
         "module": "Python",
         "version": "3.4.3 32bit [GCC 4.8.4]"
        },
        {
         "module": "IPython",
         "version": "4.0.0"
        },
        {
         "module": "OS",
         "version": "Linux 3.13.0 66 generic i686 athlon with Ubuntu 14.04 trusty"
        },
        {
         "module": "numpy",
         "version": "1.10.1"
        },
        {
         "module": "matplotlib",
         "version": "1.5.0"
        }
       ]
      },
      "text/html": [
       "<table><tr><th>Software</th><th>Version</th></tr><tr><td>Python</td><td>3.4.3 32bit [GCC 4.8.4]</td></tr><tr><td>IPython</td><td>4.0.0</td></tr><tr><td>OS</td><td>Linux 3.13.0 66 generic i686 athlon with Ubuntu 14.04 trusty</td></tr><tr><td>numpy</td><td>1.10.1</td></tr><tr><td>matplotlib</td><td>1.5.0</td></tr><tr><td colspan='2'>Sat Nov 07 10:20:51 2015 UTC</td></tr></table>"
      ],
      "text/latex": [
       "\\begin{tabular}{|l|l|}\\hline\n",
       "{\\bf Software} & {\\bf Version} \\\\ \\hline\\hline\n",
       "Python & 3.4.3 32bit [GCC 4.8.4] \\\\ \\hline\n",
       "IPython & 4.0.0 \\\\ \\hline\n",
       "OS & Linux 3.13.0 66 generic i686 athlon with Ubuntu 14.04 trusty \\\\ \\hline\n",
       "numpy & 1.10.1 \\\\ \\hline\n",
       "matplotlib & 1.5.0 \\\\ \\hline\n",
       "\\hline \\multicolumn{2}{|l|}{Sat Nov 07 10:20:51 2015 UTC} \\\\ \\hline\n",
       "\\end{tabular}\n"
      ],
      "text/plain": [
       "Software versions\n",
       "Python 3.4.3 32bit [GCC 4.8.4]\n",
       "IPython 4.0.0\n",
       "OS Linux 3.13.0 66 generic i686 athlon with Ubuntu 14.04 trusty\n",
       "numpy 1.10.1\n",
       "matplotlib 1.5.0\n",
       "Sat Nov 07 10:20:51 2015 UTC"
      ]
     },
     "execution_count": 7,
     "metadata": {},
     "output_type": "execute_result"
    }
   ],
   "source": [
    "%version_information numpy, matplotlib"
   ]
  }
 ],
 "metadata": {
  "kernelspec": {
   "display_name": "Python 3",
   "language": "python",
   "name": "python3"
  },
  "language_info": {
   "codemirror_mode": {
    "name": "ipython",
    "version": 3
   },
   "file_extension": ".py",
   "mimetype": "text/x-python",
   "name": "python",
   "nbconvert_exporter": "python",
   "pygments_lexer": "ipython3",
   "version": "3.4.3"
  }
 },
 "nbformat": 4,
 "nbformat_minor": 0
}
